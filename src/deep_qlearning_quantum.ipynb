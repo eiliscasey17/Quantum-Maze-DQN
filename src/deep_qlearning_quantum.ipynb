{
 "cells": [
  {
   "cell_type": "code",
   "execution_count": 109,
   "metadata": {},
   "outputs": [],
   "source": [
    "import numpy as np\n",
    "import scipy.special as sp\n",
    "\n",
    "from IPython.display import display, clear_output\n",
    "import matplotlib.pyplot as plt\n",
    "import copy \n",
    "import time\n",
    "import random\n",
    "\n",
    "import torch\n",
    "import torch.nn as nn\n",
    "import torch.optim as optim\n",
    "import collections\n",
    "\n",
    "# Necessary imports\n",
    "\n",
    "import numpy as np\n",
    "import matplotlib.pyplot as plt\n",
    "from torch.nn import Linear\n",
    "\n",
    "from qiskit import QuantumCircuit\n",
    "#from qiskit.utils import algorithm_globals\n",
    "from qiskit.circuit import Parameter\n",
    "from qiskit.circuit.library import RealAmplitudes, ZFeatureMap\n",
    "from qiskit_machine_learning.neural_networks import SamplerQNN\n",
    "from qiskit_machine_learning.connectors import TorchConnector\n",
    "\n",
    "from qiskit.circuit.library import ZZFeatureMap, EfficientSU2\n",
    "\n",
    "torch.backends.cudnn.benchmark = True"
   ]
  },
  {
   "attachments": {},
   "cell_type": "markdown",
   "metadata": {},
   "source": [
    "**Introduce experience replay.**"
   ]
  },
  {
   "cell_type": "code",
   "execution_count": 110,
   "metadata": {},
   "outputs": [],
   "source": [
    "Transition = collections.namedtuple('Experience',\n",
    "                                    field_names=['state', 'action',\n",
    "                                                 'next_state', 'reward',\n",
    "                                                 'is_game_on'])\n",
    "\n",
    "class ExperienceReplay:\n",
    "    def __init__(self, capacity):\n",
    "        self.capacity = capacity\n",
    "        self.memory = collections.deque(maxlen=capacity)\n",
    "\n",
    "    def __len__(self):\n",
    "        return len(self.memory)\n",
    "\n",
    "    def push(self, transition):\n",
    "        self.memory.append(transition)\n",
    "\n",
    "    def sample(self, batch_size, device = 'cpu'):\n",
    "        indices = np.random.choice(len(self.memory), batch_size, replace = False)\n",
    "        \n",
    "        states, actions, next_states, rewards, isgameon = zip(*[self.memory[idx] \n",
    "                                                                for idx in indices])\n",
    "        \n",
    "        return torch.Tensor(states).type(torch.float).to(device), \\\n",
    "               torch.Tensor(actions).type(torch.long).to(device), \\\n",
    "               torch.Tensor(next_states).to(device), \\\n",
    "               torch.Tensor(rewards).to(device), torch.tensor(isgameon).to(device)"
   ]
  },
  {
   "attachments": {},
   "cell_type": "markdown",
   "metadata": {},
   "source": [
    "**Networks definition.**"
   ]
  },
  {
   "cell_type": "code",
   "execution_count": 111,
   "metadata": {},
   "outputs": [
    {
     "name": "stdout",
     "output_type": "stream",
     "text": [
      "QNN Training Parameters:  4\n",
      "QNN-Entangled Training Parameters:  16\n"
     ]
    },
    {
     "name": "stderr",
     "output_type": "stream",
     "text": [
      "/var/folders/ks/75nc1bbj5y927lr6v6qstz540000gn/T/ipykernel_7350/1593640690.py:14: DeprecationWarning: V1 Primitives are deprecated as of qiskit-machine-learning 0.8.0 and will be removed no sooner than 4 months after the release date. Use V2 primitives for continued compatibility and support.\n",
      "  qnn = SamplerQNN(\n",
      "/var/folders/ks/75nc1bbj5y927lr6v6qstz540000gn/T/ipykernel_7350/1593640690.py:31: DeprecationWarning: V1 Primitives are deprecated as of qiskit-machine-learning 0.8.0 and will be removed no sooner than 4 months after the release date. Use V2 primitives for continued compatibility and support.\n",
      "  qnn = SamplerQNN(\n"
     ]
    }
   ],
   "source": [
    "num_qubits = 4\n",
    "\n",
    "def create_qnn():\n",
    "    n_qubits = int(num_qubits/2)\n",
    "\n",
    "    qc = QuantumCircuit(n_qubits)\n",
    "    feature_map = ZFeatureMap(n_qubits)\n",
    "    ansatz = RealAmplitudes(num_qubits=n_qubits, reps=1)\n",
    "\n",
    "    qc.compose(feature_map, inplace=True)\n",
    "    qc.compose(ansatz, inplace=True)\n",
    "\n",
    "    # REMEMBER TO SET input_gradients=True FOR ENABLING HYBRID GRADIENT BACKPROP\n",
    "    qnn = SamplerQNN(\n",
    "        circuit=qc,\n",
    "        input_params=feature_map.parameters,\n",
    "        weight_params=ansatz.parameters,\n",
    "        input_gradients=True,\n",
    "    )\n",
    "    \n",
    "    return qnn\n",
    "\n",
    "def create_entanglement():\n",
    "    qc = QuantumCircuit(num_qubits)\n",
    "    feature_map =ZZFeatureMap(num_qubits)\n",
    "    ansatz = EfficientSU2(num_qubits= num_qubits, reps = 1)\n",
    "\n",
    "    qc.compose(feature_map, inplace=True)\n",
    "    qc.compose(ansatz, inplace = True)\n",
    "\n",
    "    qnn = SamplerQNN(\n",
    "        circuit=qc,\n",
    "        input_params=feature_map.parameters,\n",
    "        weight_params=ansatz.parameters,\n",
    "        input_gradients=True,\n",
    "    )\n",
    "    \n",
    "    return qnn\n",
    "\n",
    "\n",
    "\n",
    "\n",
    "qnn = create_qnn()\n",
    "entanglement = create_entanglement()\n",
    "print(\"QNN Training Parameters: \", qnn.num_weights)\n",
    "print(\"QNN-Entangled Training Parameters: \", entanglement.num_weights)"
   ]
  },
  {
   "cell_type": "code",
   "execution_count": 112,
   "metadata": {},
   "outputs": [],
   "source": [
    "class conv_nn(nn.Module):\n",
    "    \n",
    "    channels = [16, 32, 64]\n",
    "    kernels = [3, 3, 3]\n",
    "    strides = [1, 1, 1]\n",
    "    in_channels = 1\n",
    "    \n",
    "    def __init__(self, rows, cols, n_act):\n",
    "        super().__init__()\n",
    "        self.rows = rows\n",
    "        self.cols = cols\n",
    "\n",
    "        self.conv_start= nn.Sequential(nn.Conv2d(in_channels = self.in_channels,\n",
    "                                            out_channels = self.channels[0],\n",
    "                                            kernel_size = self.kernels[0],\n",
    "                                            stride = self.strides[0]),\n",
    "                                  nn.ReLU(),\n",
    "                                  nn.Conv2d(in_channels = self.channels[0],\n",
    "                                            out_channels = self.channels[1],\n",
    "                                            kernel_size = self.kernels[1],\n",
    "                                            stride = self.strides[1]),\n",
    "                                  nn.ReLU()\n",
    "                                 )\n",
    "        self.conv_finish= nn.Sequential(nn.Conv2d(in_channels = self.in_channels,\n",
    "                                            out_channels = self.channels[0],\n",
    "                                            kernel_size = self.kernels[0],\n",
    "                                            stride = self.strides[0]),\n",
    "                                  nn.ReLU(),\n",
    "                                  nn.Conv2d(in_channels = self.channels[0],\n",
    "                                            out_channels = self.channels[1],\n",
    "                                            kernel_size = self.kernels[1],\n",
    "                                            stride = self.strides[1]),\n",
    "                                  nn.ReLU()\n",
    "                                 )\n",
    "\n",
    "\n",
    "        size_out_conv = self.get_conv_size(rows, cols)\n",
    "\n",
    "        self.linear_start = nn.Sequential(nn.Linear(size_out_conv, 2),\n",
    "                                    TorchConnector(qnn),\n",
    "                                    nn.Linear(4, n_act),\n",
    "                                   )\n",
    "\n",
    "        self.linear_finish = nn.Sequential(nn.Linear(size_out_conv, 2),\n",
    "                                    TorchConnector(qnn),\n",
    "                                    nn.Linear(4, n_act),\n",
    "                                   )\n",
    "        \n",
    "        self.linear_entangle = nn.Sequential(nn.LazyLinear(4),\n",
    "                                             TorchConnector(entanglement),\n",
    "                                             nn.LazyLinear(n_act)\n",
    "                                             )\n",
    "        \n",
    "    def forward(self, x1, x2):\n",
    "\n",
    "        x1 = x1.view(len(x1), self.in_channels, self.rows, self.cols)\n",
    "        out_conv_start = self.conv_start(x1).view(len(x1),-1)\n",
    "        out_lin_start = self.linear_start(out_conv_start)\n",
    "\n",
    "        x2 = x2.view(len(x2), self.in_channels, self.rows, self.cols)\n",
    "        out_conv_finish = self.conv_finish(x2).view(len(x2),-1)\n",
    "        out_lin_finish = self.linear_finish(out_conv_finish)\n",
    "        out_lin = torch.cat((out_lin_start, out_lin_finish))\n",
    "        out_lin = self.linear_entangle(out_lin)\n",
    "        \n",
    "        return out_lin\n",
    "    \n",
    "    def get_conv_size(self, x, y):\n",
    "        out_conv = self.conv_start(torch.zeros(1,self.in_channels, x, y))\n",
    "        return int(np.prod(out_conv.size()))\n",
    "    \n",
    "\n",
    "    "
   ]
  },
  {
   "cell_type": "code",
   "execution_count": 113,
   "metadata": {},
   "outputs": [],
   "source": [
    "def get_qvalues(net, state_start, state_finish):\n",
    "    state_start = torch.Tensor(state_start).to(\"cpu\")\n",
    "    state_finish = torch.Tensor(state_finish).to(\"cpu\")\n",
    "    qvalues = net(state_start, state_finish)\n",
    "    qvalues_start, qvalues_finish = torch.chunk(qvalues, 2)\n",
    "    \n",
    "    return qvalues_start, qvalues_finish\n"
   ]
  },
  {
   "cell_type": "code",
   "execution_count": 114,
   "metadata": {},
   "outputs": [],
   "source": [
    "def Qloss(batch_start, batch_finish, net, gamma=0.99, device=\"cpu\"):\n",
    "    #(states, actions, next_states, rewards, _ ), ()= batch\n",
    "\n",
    "    states_start, actions_start, next_states_start, rewards_start, _ = batch_start\n",
    "\n",
    "    states_finish, actions_finish, next_states_finish, rewards_finish, _ = batch_finish   \n",
    "    # Move data for both agents to the desired device\n",
    "    \n",
    "    states_start = states_start.to(device)\n",
    "    actions_start = actions_start.to(device)\n",
    "    next_states_start = next_states_start.to(device)\n",
    "    rewards_start = rewards_start.to(device)\n",
    "    \n",
    "\n",
    "    states_finish = states_finish.to(device)\n",
    "    actions_finish = actions_finish.to(device)\n",
    "    next_states_finish = next_states_finish.to(device)\n",
    "    rewards_finish = rewards_finish.to(device)\n",
    "    \n",
    "    # Convert states and next_states to NumPy arrays\n",
    "    states_start = states_start.cpu().detach().numpy()\n",
    "    next_states_start = next_states_start.cpu().detach().numpy()\n",
    "\n",
    "    states_finish = states_finish.cpu().detach().numpy()\n",
    "    next_states_finish = next_states_finish.cpu().detach().numpy()\n",
    "\n",
    "    # Create PyTorch tensors from the NumPy arrays\n",
    "    states_tensor_start = torch.from_numpy(states_start).to(device)\n",
    "    next_states_tensor_start = torch.from_numpy(next_states_start).to(device)\n",
    "\n",
    "    states_tensor_finish = torch.from_numpy(states_finish).to(device)\n",
    "    next_states_tensor_finish = torch.from_numpy(next_states_finish).to(device)\n",
    "\n",
    "\n",
    "    # Perform the rest of the computation on the device\n",
    "    lbatch_start = len(states_tensor_start)\n",
    "    lbatch_finish = len(states_tensor_finish)\n",
    "\n",
    "   \n",
    "    #####################################\n",
    "\n",
    "    state_action_values_start, state_action_values_finish  = get_qvalues(net,states_tensor_start.view(lbatch_start,-1), states_tensor_finish.view(lbatch_finish,-1))\n",
    "    #state_action_values_start = state_action_values_start.transpose(0,1)\n",
    "    \n",
    "    #state_action_values_start = state_action_values_start.view(lbatch_start, 1)\n",
    "    #state_action_values_start = state_action_values_start.view(-1, 1)\n",
    "    \n",
    "    state_action_values_start = state_action_values_start.gather(1, actions_start.unsqueeze(-1))\n",
    "    state_action_values_start = state_action_values_start.squeeze(-1)\n",
    "\n",
    "    state_action_values_finish = state_action_values_finish.gather(1, actions_finish.unsqueeze(-1))\n",
    "    state_action_values_finish = state_action_values_finish.squeeze(-1)\n",
    "\n",
    "    state_action_values_combined = torch.cat((state_action_values_start, state_action_values_finish))\n",
    "\n",
    "    #####################################\n",
    "\n",
    "    next_state_values_start, next_state_values_finish  = get_qvalues(net,next_states_tensor_start.view(lbatch_start, -1), next_states_tensor_finish.view(lbatch_finish, -1))\n",
    "\n",
    "\n",
    "    next_state_values_start = next_state_values_start.max(1)[0]\n",
    "    next_state_values_start = next_state_values_start.detach()\n",
    "   \n",
    "    expected_state_action_values_start = next_state_values_start * gamma + rewards_start\n",
    "\n",
    "\n",
    "    next_state_values_finish = next_state_values_finish.max(1)[0]\n",
    "    next_state_values_finish = next_state_values_finish.detach()\n",
    "\n",
    "    \n",
    "    expected_state_action_values_finish = next_state_values_finish * gamma + rewards_finish\n",
    "\n",
    "    expected_state_action_values_combined = torch.cat((expected_state_action_values_start, expected_state_action_values_finish))\n",
    "    \n",
    "    '''\n",
    "    # Move tensors to the desired device\n",
    "    states = states.to(device)\n",
    "    actions = actions.to(device)\n",
    "    next_states = next_states.to(device)\n",
    "    rewards = rewards.to(device)\n",
    "\n",
    "    # Convert states and next_states to NumPy arrays\n",
    "    states = states.cpu().detach().numpy()\n",
    "    next_states = next_states.cpu().detach().numpy()\n",
    "\n",
    "    # Create PyTorch tensors from the NumPy arrays\n",
    "    states_tensor = torch.from_numpy(states).to(device)\n",
    "    next_states_tensor = torch.from_numpy(next_states).to(device)\n",
    "\n",
    "    # Perform the rest of the computation on the device\n",
    "    lbatch = len(states_tensor)\n",
    "\n",
    "    \n",
    "    state_action_values = net(states_tensor.view(lbatch,-1))\n",
    "    state_action_values = state_action_values.gather(1, actions.unsqueeze(-1))\n",
    "    state_action_values = state_action_values.squeeze(-1)\n",
    "    #state_action_values = torch.tensor(input_list).squeeze()\n",
    "    \n",
    "    next_state_values = net(next_states_tensor.view(lbatch, -1))\n",
    "    next_state_values = next_state_values.max(1)[0]\n",
    "    next_state_values = next_state_values.detach()\n",
    "\n",
    "    expected_state_action_values = next_state_values * gamma + rewards\n",
    "    '''\n",
    "\n",
    "    return nn.MSELoss()(state_action_values_combined, expected_state_action_values_combined)"
   ]
  },
  {
   "attachments": {},
   "cell_type": "markdown",
   "metadata": {},
   "source": [
    "**Import the maze and define the environment.**"
   ]
  },
  {
   "cell_type": "code",
   "execution_count": 115,
   "metadata": {},
   "outputs": [],
   "source": [
    "from environment import MazeEnvironment\n",
    "\n",
    "maze = np.load('./maze_generator/maze_10x10.npy')\n",
    "\n",
    "start_position = [0,0]\n",
    "end_position = [len(maze)-1, len(maze)-1]\n",
    "\n",
    "maze_env = MazeEnvironment(maze, start_position, end_position)"
   ]
  },
  {
   "cell_type": "code",
   "execution_count": 116,
   "metadata": {},
   "outputs": [],
   "source": [
    "maze_finish = np.load('./maze_generator/maze_10x10.npy')\n",
    "maze_env_finish = MazeEnvironment(maze_finish, end_position, start_position)"
   ]
  },
  {
   "cell_type": "code",
   "execution_count": 117,
   "metadata": {},
   "outputs": [
    {
     "data": {
      "image/png": "[encoded data removed]",
      "text/plain": [
       "<Figure size 640x480 with 1 Axes>"
      ]
     },
     "metadata": {},
     "output_type": "display_data"
    }
   ],
   "source": [
    "maze_env.draw('./results/maze_10.pdf')"
   ]
  },
  {
   "cell_type": "code",
   "execution_count": 118,
   "metadata": {},
   "outputs": [
    {
     "data": {
      "image/png": "[encoded data removed]",
      "text/plain": [
       "<Figure size 640x480 with 1 Axes>"
      ]
     },
     "metadata": {},
     "output_type": "display_data"
    }
   ],
   "source": [
    "maze_env_finish.draw('./results/maze_10_finish.pdf')\n"
   ]
  },
  {
   "attachments": {},
   "cell_type": "markdown",
   "metadata": {},
   "source": [
    "**Define the agent and the buffer for experience replay.**"
   ]
  },
  {
   "cell_type": "code",
   "execution_count": 119,
   "metadata": {},
   "outputs": [],
   "source": [
    "buffer_capacity = 10000\n",
    "buffer_start_size = 1000\n",
    "\n",
    "memory_buffer_start = ExperienceReplay(buffer_capacity)\n",
    "memory_buffer_finish = ExperienceReplay(buffer_capacity)"
   ]
  },
  {
   "cell_type": "code",
   "execution_count": 120,
   "metadata": {},
   "outputs": [],
   "source": [
    "from agent import Agent\n",
    "\n",
    "\n",
    "agent_start = Agent(maze = maze_env,\n",
    "              memory_buffer = memory_buffer_start,\n",
    "              agent_id='Start',\n",
    "              use_softmax = True\n",
    "             )\n",
    "\n",
    "agent_finish = Agent(maze = maze_env_finish, \n",
    "               memory_buffer = memory_buffer_finish,\n",
    "               use_softmax = True,\n",
    "               agent_id='Finish'\n",
    "              )\n"
   ]
  },
  {
   "attachments": {},
   "cell_type": "markdown",
   "metadata": {},
   "source": [
    "** Define the network.**"
   ]
  },
  {
   "cell_type": "code",
   "execution_count": null,
   "metadata": {},
   "outputs": [],
   "source": []
  },
  {
   "cell_type": "code",
   "execution_count": 121,
   "metadata": {},
   "outputs": [],
   "source": [
    "net = conv_nn(len(maze), len(maze), 4).to('cpu')\n",
    "optimizer = optim.Adam(net.parameters(), lr=1e-4)"
   ]
  },
  {
   "cell_type": "code",
   "execution_count": 122,
   "metadata": {},
   "outputs": [
    {
     "data": {
      "text/plain": [
       "conv_nn(\n",
       "  (conv_start): Sequential(\n",
       "    (0): Conv2d(1, 16, kernel_size=(3, 3), stride=(1, 1))\n",
       "    (1): ReLU()\n",
       "    (2): Conv2d(16, 32, kernel_size=(3, 3), stride=(1, 1))\n",
       "    (3): ReLU()\n",
       "  )\n",
       "  (conv_finish): Sequential(\n",
       "    (0): Conv2d(1, 16, kernel_size=(3, 3), stride=(1, 1))\n",
       "    (1): ReLU()\n",
       "    (2): Conv2d(16, 32, kernel_size=(3, 3), stride=(1, 1))\n",
       "    (3): ReLU()\n",
       "  )\n",
       "  (linear_start): Sequential(\n",
       "    (0): Linear(in_features=1152, out_features=2, bias=True)\n",
       "    (1): TorchConnector()\n",
       "    (2): Linear(in_features=4, out_features=4, bias=True)\n",
       "  )\n",
       "  (linear_finish): Sequential(\n",
       "    (0): Linear(in_features=1152, out_features=2, bias=True)\n",
       "    (1): TorchConnector()\n",
       "    (2): Linear(in_features=4, out_features=4, bias=True)\n",
       "  )\n",
       "  (linear_entangle): Sequential(\n",
       "    (0): LazyLinear(in_features=0, out_features=4, bias=True)\n",
       "    (1): TorchConnector()\n",
       "    (2): LazyLinear(in_features=0, out_features=4, bias=True)\n",
       "  )\n",
       ")"
      ]
     },
     "execution_count": 122,
     "metadata": {},
     "output_type": "execute_result"
    }
   ],
   "source": [
    "device = torch.device(\"cpu\")\n",
    "batch_size = 24\n",
    "gamma = 0.9\n",
    "\n",
    "net.to(device)\n",
    "#print(\"Number of Trainable Parameters: \", sum(p.numel() for p in net.parameters() if p.requires_grad))"
   ]
  },
  {
   "attachments": {},
   "cell_type": "markdown",
   "metadata": {},
   "source": [
    "**Define the epsilon profile and plot the resetting probability.**"
   ]
  },
  {
   "cell_type": "code",
   "execution_count": 123,
   "metadata": {
    "scrolled": false
   },
   "outputs": [
    {
     "data": {
      "image/png": "[encoded data removed]",
      "text/plain": [
       "<Figure size 640x480 with 1 Axes>"
      ]
     },
     "metadata": {},
     "output_type": "display_data"
    },
    {
     "data": {
      "image/png": "[encoded data removed]",
      "text/plain": [
       "<Figure size 640x480 with 1 Axes>"
      ]
     },
     "metadata": {},
     "output_type": "display_data"
    }
   ],
   "source": [
    "num_epochs = 20000\n",
    "\n",
    "cutoff = 3000\n",
    "epsilon = np.exp(-np.arange(num_epochs)/(cutoff))\n",
    "epsilon[epsilon > epsilon[100*int(num_epochs/cutoff)]] = epsilon[100*int(num_epochs/cutoff)]\n",
    "plt.plot(epsilon, color = 'orangered', ls = '--')\n",
    "plt.xlabel('Epochs')\n",
    "plt.ylabel('Epsilon')\n",
    "plt.savefig('epsilon_profile.pdf', dpi = 300, bbox_inches = 'tight')\n",
    "plt.show()\n",
    "\n",
    "mp = []\n",
    "mpm = []\n",
    "reg = 200\n",
    "for e in epsilon:\n",
    "    a = agent_start.env.reset_policy(e)\n",
    "    mp.append(np.min(a))\n",
    "    mpm.append(np.max(a))\n",
    "\n",
    "plt.plot(epsilon/1.3, color = 'orangered', ls = '--', alpha = 0.5,\n",
    "         label= 'Epsilon profile (arbitrary units)')\n",
    "\n",
    "plt.plot(np.array(mpm)-np.array(mp), label = 'Probability difference', color = 'cornflowerblue')\n",
    "plt.xlabel('Epochs')\n",
    "plt.ylabel(r'max $p^r$ - min $p^r$')\n",
    "plt.legend()\n",
    "plt.savefig('reset_policy.pdf', dpi = 300, bbox_inches = 'tight')\n",
    "plt.show()"
   ]
  },
  {
   "attachments": {},
   "cell_type": "markdown",
   "metadata": {},
   "source": [
    "**Training the network.**"
   ]
  },
  {
   "cell_type": "code",
   "execution_count": null,
   "metadata": {},
   "outputs": [
    {
     "name": "stdout",
     "output_type": "stream",
     "text": [
      "Epoch 133 (number of moves 2)\n",
      "Game won\n",
      "[#                                                                                                   ]\n",
      "\t Average loss: 0.99098\n"
     ]
    }
   ],
   "source": [
    "loss_log = []\n",
    "best_loss = 1e5\n",
    "\n",
    "running_loss = 0\n",
    "\n",
    "win_count = 0\n",
    "\n",
    "for epoch in range(num_epochs):\n",
    "    loss = 0\n",
    "    counter = 0\n",
    "    eps = epsilon[epoch]\n",
    "    \n",
    "    agent_start.isgameon = True\n",
    "    start_pos = agent_start.env.reset(eps)\n",
    "\n",
    "    agent_finish.isgameon = True\n",
    "    finish_pos = agent_finish.env.reset(eps)\n",
    "\n",
    "   \n",
    "    while agent_start.isgameon and agent_finish.isgameon:\n",
    "       \n",
    "        state_start = torch.tensor(agent_start.env.state()).view(1, -1).float()\n",
    "        state_finish = torch.tensor(agent_finish.env.state()).view(1, -1).float()\n",
    "        q_start, q_finish = get_qvalues(net, state_start,state_finish)\n",
    "        \n",
    "        agent_start.make_a_move(q_start, eps)\n",
    "        agent_finish.make_a_move(q_finish, eps)\n",
    "        counter += 1\n",
    "        \n",
    "        if len(agent_start.buffer) < buffer_start_size or len(agent_finish.buffer) < buffer_start_size:\n",
    "            continue\n",
    "            \n",
    "        optimizer.zero_grad()\n",
    "        batch_start = agent_start.buffer.sample(batch_size, device = device)\n",
    "        batch_finish = agent_finish.buffer.sample(batch_size, device = device)\n",
    "        loss_t = Qloss(batch_start, batch_finish, net, gamma = gamma, device = device)\n",
    "        loss_t.backward()\n",
    "        optimizer.step()\n",
    "        \n",
    "        loss += loss_t.item()\n",
    "    \n",
    "    if (agent_start.env.current_position == agent_start.env.goal).all() or (agent_finish.env.current_position == agent_finish.env.goal).all():\n",
    "        result = 'won'\n",
    "        win_count += 1\n",
    "    else:\n",
    "        result = 'lost'\n",
    "    \n",
    "    if epoch%1000 == 0:\n",
    "        net.eval()\n",
    "        #agent_start.plot_policy_map(net, 'sol_epoch_'+str(epoch)+'.pdf', [0.35,-0.3])\n",
    "        net.train()\n",
    "    loss_log.append(loss)\n",
    "    \n",
    "    if (epoch > 2000):\n",
    "        running_loss = np.mean(loss_log[-50:])\n",
    "        if running_loss < best_loss:\n",
    "            best_loss = running_loss\n",
    "            torch.save(net.state_dict(), \"best.torch\")\n",
    "            estop = epoch\n",
    "    clear_output(wait = True)\n",
    "    print('Epoch', epoch, '(number of moves ' + str(counter) + ')')\n",
    "    print('Game', result)\n",
    "    \n",
    "\n",
    "    print('[' + '#'*(100-int(100*(1 - epoch/num_epochs))) +\n",
    "          ' '*int(100*(1 - epoch/num_epochs)) + ']')\n",
    "    print('\\t Average loss: ' + f'{loss:.5f}')\n",
    "    if (epoch > 2000):\n",
    "        print('\\t Best average loss of the last 50 epochs: ' + f'{best_loss:.5f}' + ', achieved at epoch', estop)\n",
    "    "
   ]
  },
  {
   "cell_type": "code",
   "execution_count": 65,
   "metadata": {},
   "outputs": [],
   "source": [
    "torch.save(net.state_dict(), \"./results/net.torch\")"
   ]
  },
  {
   "cell_type": "code",
   "execution_count": 60,
   "metadata": {},
   "outputs": [
    {
     "data": {
      "image/png": "[encoded data removed]",
      "text/plain": [
       "<Figure size 640x480 with 1 Axes>"
      ]
     },
     "metadata": {},
     "output_type": "display_data"
    }
   ],
   "source": [
    "plt.plot(epsilon*90, alpha = 0.6, ls = '--', label = 'Epsilon profile (arbitrary unit)', color = 'orangered')\n",
    "plt.plot((np.array(mpm)-np.array(mp))*120, alpha = 0.6, ls = '--',\n",
    "         label = 'Probability difference (arbitrary unit)', color = 'dimgray')\n",
    "plt.plot(loss_log, label = 'Loss', color = 'cornflowerblue')\n",
    "plt.xlabel('Epoch')\n",
    "plt.ylabel('MSE')\n",
    "plt.legend()\n",
    "plt.savefig('loss.pdf', dpi = 300, bbox_inches='tight')\n",
    "plt.show()"
   ]
  },
  {
   "attachments": {},
   "cell_type": "markdown",
   "metadata": {},
   "source": [
    "**Show the maze solution and the policy learnt.**"
   ]
  },
  {
   "cell_type": "code",
   "execution_count": 66,
   "metadata": {},
   "outputs": [
    {
     "data": {
      "text/plain": [
       "<All keys matched successfully>"
      ]
     },
     "execution_count": 66,
     "metadata": {},
     "output_type": "execute_result"
    }
   ],
   "source": [
    "net.load_state_dict(torch.load(\"best.torch\", weights_only=True))"
   ]
  },
  {
   "cell_type": "code",
   "execution_count": 67,
   "metadata": {
    "scrolled": true
   },
   "outputs": [
    {
     "data": {
      "image/png": "[encoded data removed]",
      "text/plain": [
       "<Figure size 640x480 with 1 Axes>"
      ]
     },
     "metadata": {},
     "output_type": "display_data"
    }
   ],
   "source": [
    "net.eval()\n",
    "agent_start.isgameon = True\n",
    "agent_start.use_softmax = False\n",
    "_ = agent_start.env.reset(0)\n",
    "while agent_start.isgameon:\n",
    "    agent_start.make_a_move(net, 0.8)\n",
    "    agent_start.env.draw('')\n",
    "    clear_output(wait = True)"
   ]
  },
  {
   "cell_type": "code",
   "execution_count": 68,
   "metadata": {},
   "outputs": [
    {
     "data": {
      "image/png": "[encoded data removed]",
      "text/plain": [
       "<Figure size 640x480 with 1 Axes>"
      ]
     },
     "metadata": {},
     "output_type": "display_data"
    }
   ],
   "source": [
    "agent_start.plot_policy_map(net, './results/solution.pdf', [0.35,-0.3])"
   ]
  },
  {
   "cell_type": "code",
   "execution_count": 69,
   "metadata": {},
   "outputs": [
    {
     "name": "stderr",
     "output_type": "stream",
     "text": [
      "/var/folders/ks/75nc1bbj5y927lr6v6qstz540000gn/T/ipykernel_2318/1177695741.py:2: FutureWarning: You are using `torch.load` with `weights_only=False` (the current default value), which uses the default pickle module implicitly. It is possible to construct malicious pickle data which will execute arbitrary code during unpickling (See https://github.com/pytorch/pytorch/blob/main/SECURITY.md#untrusted-models for more details). In a future release, the default value for `weights_only` will be flipped to `True`. This limits the functions that could be executed during unpickling. Arbitrary objects will no longer be allowed to be loaded via this mode unless they are explicitly allowlisted by the user via `torch.serialization.add_safe_globals`. We recommend you start setting `weights_only=True` for any use case where you don't have full control of the loaded file. Please open an issue on GitHub for any issues related to this experimental feature.\n",
      "  best_net.load_state_dict(torch.load('best.torch'))\n"
     ]
    },
    {
     "data": {
      "text/plain": [
       "<All keys matched successfully>"
      ]
     },
     "execution_count": 69,
     "metadata": {},
     "output_type": "execute_result"
    }
   ],
   "source": [
    "best_net = copy.deepcopy(net)\n",
    "best_net.load_state_dict(torch.load('best.torch'))"
   ]
  },
  {
   "cell_type": "code",
   "execution_count": 70,
   "metadata": {},
   "outputs": [
    {
     "data": {
      "image/png": "[encoded data removed]",
      "text/plain": [
       "<Figure size 640x480 with 1 Axes>"
      ]
     },
     "metadata": {},
     "output_type": "display_data"
    }
   ],
   "source": [
    "agent_start.plot_policy_map(best_net, './results/classical_solution_best.pdf', [0.35,-0.3])"
   ]
  }
 ],
 "metadata": {
  "kernelspec": {
   "display_name": "Python 3",
   "language": "python",
   "name": "python3"
  },
  "language_info": {
   "codemirror_mode": {
    "name": "ipython",
    "version": 3
   },
   "file_extension": ".py",
   "mimetype": "text/x-python",
   "name": "python",
   "nbconvert_exporter": "python",
   "pygments_lexer": "ipython3",
   "version": "3.11.11"
  }
 },
 "nbformat": 4,
 "nbformat_minor": 2
}
